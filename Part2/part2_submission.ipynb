{
 "cells": [
  {
   "cell_type": "markdown",
   "id": "cbf6206a",
   "metadata": {},
   "source": [
    "# MSA 2025 Phase 2 - Part 2: Minimum Temperature Prediction from Weather Data"
   ]
  },
  {
   "cell_type": "markdown",
   "id": "3b46716d",
   "metadata": {},
   "source": [
    "## 1. Load and check the dataset"
   ]
  },
  {
   "cell_type": "code",
   "execution_count": 4,
   "id": "11a8294f",
   "metadata": {},
   "outputs": [
    {
     "name": "stdout",
     "output_type": "stream",
     "text": [
      "数据集中的所有变量（特征）：\n",
      "['STA', 'Date', 'Precip', 'WindGustSpd', 'MaxTemp', 'MinTemp', 'MeanTemp', 'Snowfall', 'PoorWeather', 'YR', 'MO', 'DA', 'PRCP', 'DR', 'SPD', 'MAX', 'MIN', 'MEA', 'SNF', 'SND', 'FT', 'FB', 'FTI', 'ITH', 'PGT', 'TSHDSBRSGF', 'SD3', 'RHX', 'RHN', 'RVG', 'WTE']\n",
      "\n",
      "数据集的前几行：\n",
      "     STA      Date Precip  WindGustSpd    MaxTemp    MinTemp   MeanTemp  \\\n",
      "0  10001  1942-7-1  1.016          NaN  25.555556  22.222222  23.888889   \n",
      "1  10001  1942-7-2      0          NaN  28.888889  21.666667  25.555556   \n",
      "2  10001  1942-7-3   2.54          NaN  26.111111  22.222222  24.444444   \n",
      "3  10001  1942-7-4   2.54          NaN  26.666667  22.222222  24.444444   \n",
      "4  10001  1942-7-5      0          NaN  26.666667  21.666667  24.444444   \n",
      "\n",
      "  Snowfall PoorWeather  YR  ...  FB  FTI ITH  PGT  TSHDSBRSGF  SD3  RHX  RHN  \\\n",
      "0        0         NaN  42  ... NaN  NaN NaN  NaN         NaN  NaN  NaN  NaN   \n",
      "1        0         NaN  42  ... NaN  NaN NaN  NaN         NaN  NaN  NaN  NaN   \n",
      "2        0         NaN  42  ... NaN  NaN NaN  NaN         NaN  NaN  NaN  NaN   \n",
      "3        0         NaN  42  ... NaN  NaN NaN  NaN         NaN  NaN  NaN  NaN   \n",
      "4        0         NaN  42  ... NaN  NaN NaN  NaN         NaN  NaN  NaN  NaN   \n",
      "\n",
      "  RVG  WTE  \n",
      "0 NaN  NaN  \n",
      "1 NaN  NaN  \n",
      "2 NaN  NaN  \n",
      "3 NaN  NaN  \n",
      "4 NaN  NaN  \n",
      "\n",
      "[5 rows x 31 columns]\n",
      "\n",
      "数据集的基本信息：\n",
      "<class 'pandas.core.frame.DataFrame'>\n",
      "RangeIndex: 119040 entries, 0 to 119039\n",
      "Data columns (total 31 columns):\n",
      " #   Column       Non-Null Count   Dtype  \n",
      "---  ------       --------------   -----  \n",
      " 0   STA          119040 non-null  int64  \n",
      " 1   Date         119040 non-null  object \n",
      " 2   Precip       119040 non-null  object \n",
      " 3   WindGustSpd  532 non-null     float64\n",
      " 4   MaxTemp      119040 non-null  float64\n",
      " 5   MinTemp      119040 non-null  float64\n",
      " 6   MeanTemp     119040 non-null  float64\n",
      " 7   Snowfall     117877 non-null  object \n",
      " 8   PoorWeather  34237 non-null   object \n",
      " 9   YR           119040 non-null  int64  \n",
      " 10  MO           119040 non-null  int64  \n",
      " 11  DA           119040 non-null  int64  \n",
      " 12  PRCP         117108 non-null  object \n",
      " 13  DR           533 non-null     float64\n",
      " 14  SPD          532 non-null     float64\n",
      " 15  MAX          118566 non-null  float64\n",
      " 16  MIN          118572 non-null  float64\n",
      " 17  MEA          118542 non-null  float64\n",
      " 18  SNF          117877 non-null  object \n",
      " 19  SND          5563 non-null    float64\n",
      " 20  FT           0 non-null       float64\n",
      " 21  FB           0 non-null       float64\n",
      " 22  FTI          0 non-null       float64\n",
      " 23  ITH          0 non-null       float64\n",
      " 24  PGT          525 non-null     float64\n",
      " 25  TSHDSBRSGF   34237 non-null   object \n",
      " 26  SD3          0 non-null       float64\n",
      " 27  RHX          0 non-null       float64\n",
      " 28  RHN          0 non-null       float64\n",
      " 29  RVG          0 non-null       float64\n",
      " 30  WTE          0 non-null       float64\n",
      "dtypes: float64(20), int64(4), object(7)\n",
      "memory usage: 28.2+ MB\n",
      "None\n",
      "\n",
      "数据集的描述性统计：\n",
      "                 STA  WindGustSpd        MaxTemp        MinTemp  \\\n",
      "count  119040.000000   532.000000  119040.000000  119040.000000   \n",
      "mean    29659.435795    37.774534      27.045111      17.789511   \n",
      "std     20953.209402    10.297808       8.717817       8.334572   \n",
      "min     10001.000000    18.520000     -33.333333     -38.333333   \n",
      "25%     11801.000000    29.632000      25.555556      15.000000   \n",
      "50%     22508.000000    37.040000      29.444444      21.111111   \n",
      "75%     33501.000000    43.059000      31.666667      23.333333   \n",
      "max     82506.000000    75.932000      50.000000      34.444444   \n",
      "\n",
      "            MeanTemp             YR             MO             DA          DR  \\\n",
      "count  119040.000000  119040.000000  119040.000000  119040.000000  533.000000   \n",
      "mean       22.411631      43.805284       6.726016      15.797530   26.998124   \n",
      "std         8.297982       1.136718       3.425561       8.794541   15.221732   \n",
      "min       -35.555556      40.000000       1.000000       1.000000    2.000000   \n",
      "25%        20.555556      43.000000       4.000000       8.000000   11.000000   \n",
      "50%        25.555556      44.000000       7.000000      16.000000   32.000000   \n",
      "75%        27.222222      45.000000      10.000000      23.000000   34.000000   \n",
      "max        40.000000      45.000000      12.000000      31.000000   78.000000   \n",
      "\n",
      "              SPD  ...   FT   FB  FTI  ITH         PGT  SD3  RHX  RHN  RVG  \\\n",
      "count  532.000000  ...  0.0  0.0  0.0  0.0  525.000000  0.0  0.0  0.0  0.0   \n",
      "mean    20.396617  ...  NaN  NaN  NaN  NaN   12.085333  NaN  NaN  NaN  NaN   \n",
      "std      5.560371  ...  NaN  NaN  NaN  NaN    5.731328  NaN  NaN  NaN  NaN   \n",
      "min     10.000000  ...  NaN  NaN  NaN  NaN    0.000000  NaN  NaN  NaN  NaN   \n",
      "25%     16.000000  ...  NaN  NaN  NaN  NaN    8.500000  NaN  NaN  NaN  NaN   \n",
      "50%     20.000000  ...  NaN  NaN  NaN  NaN   11.600000  NaN  NaN  NaN  NaN   \n",
      "75%     23.250000  ...  NaN  NaN  NaN  NaN   15.000000  NaN  NaN  NaN  NaN   \n",
      "max     41.000000  ...  NaN  NaN  NaN  NaN   23.900000  NaN  NaN  NaN  NaN   \n",
      "\n",
      "       WTE  \n",
      "count  0.0  \n",
      "mean   NaN  \n",
      "std    NaN  \n",
      "min    NaN  \n",
      "25%    NaN  \n",
      "50%    NaN  \n",
      "75%    NaN  \n",
      "max    NaN  \n",
      "\n",
      "[8 rows x 24 columns]\n"
     ]
    }
   ],
   "source": [
    "import pandas as pd\n",
    "\n",
    "# 加载数据集，设置 low_memory=False 以避免 DtypeWarning\n",
    "data = pd.read_csv(\"Summary of Weather.csv\", low_memory=False)\n",
    "\n",
    "# 或者，明确指定有混合类型的列（7, 8, 18, 25）的数据类型\n",
    "# dtype = {data.columns[7]: str, data.columns[8]: str, data.columns[18]: str, data.columns[25]: str}\n",
    "# data = pd.read_csv(\"Summary of Weather.csv\", dtype=dtype)\n",
    "\n",
    "# 检查数据集中的所有变量（特征）\n",
    "print(\"数据集中的所有变量（特征）：\")\n",
    "print(data.columns.tolist())\n",
    "\n",
    "# 显示数据集的前几行\n",
    "print(\"\\n数据集的前几行：\")\n",
    "print(data.head())\n",
    "\n",
    "# 显示数据集的基本信息\n",
    "print(\"\\n数据集的基本信息：\")\n",
    "print(data.info())\n",
    "\n",
    "# 显示数据集的描述性统计\n",
    "print(\"\\n数据集的描述性统计：\")\n",
    "print(data.describe())"
   ]
  },
  {
   "cell_type": "markdown",
   "id": "24632408",
   "metadata": {},
   "source": [
    "## 2. Clean the dataset, drop variables"
   ]
  },
  {
   "cell_type": "code",
   "execution_count": 5,
   "id": "e679c86c",
   "metadata": {},
   "outputs": [
    {
     "name": "stdout",
     "output_type": "stream",
     "text": [
      "与 MinTemp 的相关性：\n",
      "MinTemp        1.000000\n",
      "MIN            1.000000\n",
      "MEA            0.966441\n",
      "MeanTemp       0.965425\n",
      "MaxTemp        0.878384\n",
      "MAX            0.872096\n",
      "DR             0.525019\n",
      "SPD            0.311690\n",
      "WindGustSpd    0.311690\n",
      "MO             0.069078\n",
      "STA            0.059319\n",
      "PGT            0.007828\n",
      "DA            -0.002576\n",
      "YR            -0.020733\n",
      "SND                 NaN\n",
      "FT                  NaN\n",
      "FB                  NaN\n",
      "FTI                 NaN\n",
      "ITH                 NaN\n",
      "SD3                 NaN\n",
      "RHX                 NaN\n",
      "RHN                 NaN\n",
      "RVG                 NaN\n",
      "WTE                 NaN\n",
      "Name: MinTemp, dtype: float64\n",
      "\n",
      "清理后数据集的特征：\n",
      "['Date', 'Precip', 'WindGustSpd', 'MaxTemp', 'MinTemp', 'Snowfall', 'PoorWeather', 'PRCP', 'DR', 'SNF', 'SND', 'FT', 'FB', 'FTI', 'ITH', 'TSHDSBRSGF', 'SD3', 'RHX', 'RHN', 'RVG', 'WTE']\n"
     ]
    }
   ],
   "source": [
    "import pandas as pd\n",
    "import numpy as np\n",
    "\n",
    "# 加载数据集，设置 low_memory=False 避免 DtypeWarning\n",
    "data = pd.read_csv(\"Summary of Weather.csv\", low_memory=False)\n",
    "\n",
    "# 选择数值列进行相关性分析\n",
    "numeric_cols = data.select_dtypes(include=[np.number]).columns\n",
    "numeric_data = data[numeric_cols]\n",
    "\n",
    "# 计算与 MinTemp 的相关性\n",
    "correlation = numeric_data.corr()['MinTemp'].sort_values(ascending=False)\n",
    "print(\"与 MinTemp 的相关性：\")\n",
    "print(correlation)\n",
    "\n",
    "# 设置相关性阈值\n",
    "low_corr_threshold = 0.1  # 无关变量\n",
    "high_corr_threshold = 0.9  # 高相关变量\n",
    "\n",
    "# 识别无关变量 (|corr| < 0.1)，排除 MinTemp\n",
    "low_corr_cols = correlation[abs(correlation) < low_corr_threshold].index.tolist()\n",
    "if 'MinTemp' in low_corr_cols:\n",
    "    low_corr_cols.remove('MinTemp')\n",
    "\n",
    "# 识别高相关变量 (corr > 0.9)，排除 MinTemp\n",
    "corr_matrix = numeric_data.corr()\n",
    "high_corr_cols = set()\n",
    "for i in range(len(corr_matrix.columns)):\n",
    "    for j in range(i):\n",
    "        if abs(corr_matrix.iloc[i, j]) > high_corr_threshold and corr_matrix.columns[i] != 'MinTemp':\n",
    "            high_corr_cols.add(corr_matrix.columns[i])\n",
    "\n",
    "# 删除无关和高相关变量\n",
    "cols_to_drop = list(set(low_corr_cols + list(high_corr_cols)))\n",
    "cleaned_data = data.drop(columns=cols_to_drop)\n",
    "\n",
    "# 处理混合类型（如 Precip 中的 'T'）\n",
    "cleaned_data['Precip'] = cleaned_data['Precip'].replace('T', 0.01).astype(float, errors='ignore')\n",
    "for col in ['WindGustSpd', 'MaxTemp', 'MinTemp']:\n",
    "    cleaned_data[col] = pd.to_numeric(cleaned_data[col], errors='coerce')\n",
    "\n",
    "# 保存清理后的数据集\n",
    "cleaned_data.to_csv(\"Cleaned_Weather.csv\", index=False)\n",
    "print(\"\\n清理后数据集的特征：\")\n",
    "print(cleaned_data.columns.tolist())"
   ]
  },
  {
   "cell_type": "markdown",
   "id": "6a3ab152",
   "metadata": {},
   "source": [
    "## 3. Select the feature(s) for the model, and explain the reason"
   ]
  },
  {
   "cell_type": "code",
   "execution_count": 6,
   "id": "5696ae4f",
   "metadata": {},
   "outputs": [
    {
     "name": "stdout",
     "output_type": "stream",
     "text": [
      "选定特征与 MinTemp 的相关性：\n",
      "MinTemp        1.000000\n",
      "MaxTemp        0.878384\n",
      "WindGustSpd    0.311690\n",
      "Precip         0.088460\n",
      "Name: MinTemp, dtype: float64\n",
      "\n",
      "选定特征的基本统计信息：\n",
      "              Precip  WindGustSpd        MaxTemp\n",
      "count  119040.000000   532.000000  119040.000000\n",
      "mean        3.227020    37.774534      27.045111\n",
      "std        10.800625    10.297808       8.717817\n",
      "min         0.000000    18.520000     -33.333333\n",
      "25%         0.000000    29.632000      25.555556\n",
      "50%         0.000000    37.040000      29.444444\n",
      "75%         0.762000    43.059000      31.666667\n",
      "max       307.340000    75.932000      50.000000\n"
     ]
    }
   ],
   "source": [
    "import pandas as pd\n",
    "\n",
    "# 加载清理后的数据集，设置 low_memory=False 避免 DtypeWarning\n",
    "data = pd.read_csv(\"Cleaned_Weather.csv\", low_memory=False)\n",
    "\n",
    "# 定义特征和目标\n",
    "features = ['Precip', 'WindGustSpd', 'MaxTemp']\n",
    "target = 'MinTemp'\n",
    "\n",
    "# 验证选定特征\n",
    "numeric_data = data[features + [target]].select_dtypes(include=[float, int])\n",
    "correlation = numeric_data.corr()[target].sort_values(ascending=False)\n",
    "print(\"选定特征与 MinTemp 的相关性：\")\n",
    "print(correlation)\n",
    "\n",
    "# 显示基本统计信息\n",
    "print(\"\\n选定特征的基本统计信息：\")\n",
    "print(data[features].describe())"
   ]
  },
  {
   "cell_type": "markdown",
   "id": "a726bcc8",
   "metadata": {},
   "source": [
    "## 4. Split the dataset (80% for training, 20% for testing)"
   ]
  },
  {
   "cell_type": "code",
   "execution_count": 8,
   "id": "d8486b2e",
   "metadata": {},
   "outputs": [
    {
     "name": "stdout",
     "output_type": "stream",
     "text": [
      "训练集大小: 95232 (80.0%)\n",
      "测试集大小: 23808 (20.0%)\n"
     ]
    }
   ],
   "source": [
    "import pandas as pd\n",
    "from sklearn.model_selection import train_test_split\n",
    "\n",
    "# 加载清理后的数据集，设置 low_memory=False 避免 DtypeWarning\n",
    "data = pd.read_csv(\"Cleaned_Weather.csv\", low_memory=False)\n",
    "\n",
    "# 定义特征和目标\n",
    "features = ['Precip', 'WindGustSpd', 'MaxTemp']\n",
    "target = 'MinTemp'\n",
    "\n",
    "# 准备数据\n",
    "X = data[features]\n",
    "y = data[target]\n",
    "\n",
    "# 划分数据集：80% 训练，20% 测试\n",
    "X_train, X_test, y_train, y_test = train_test_split(X, y, test_size=0.2, random_state=42)\n",
    "\n",
    "# 验证划分比例\n",
    "print(f\"训练集大小: {len(X_train)} ({len(X_train)/len(X)*100:.1f}%)\")\n",
    "print(f\"测试集大小: {len(X_test)} ({len(X_test)/len(X)*100:.1f}%)\")"
   ]
  },
  {
   "cell_type": "markdown",
   "id": "81d5a4da",
   "metadata": {},
   "source": [
    "## 5. Choose the algorithm, train and test the model"
   ]
  },
  {
   "cell_type": "code",
   "execution_count": 10,
   "id": "04b47504",
   "metadata": {},
   "outputs": [
    {
     "name": "stdout",
     "output_type": "stream",
     "text": [
      "训练集 RMSE: 3.93 °C\n",
      "测试集 RMSE: 3.89 °C\n",
      "训练集 R²: 0.78\n",
      "测试集 R²: 0.78\n"
     ]
    }
   ],
   "source": [
    "import pandas as pd\n",
    "import numpy as np\n",
    "from sklearn.model_selection import train_test_split\n",
    "from sklearn.linear_model import LinearRegression\n",
    "from sklearn.metrics import mean_squared_error, r2_score\n",
    "\n",
    "# 加载清理后的数据集，设置 low_memory=False 避免 DtypeWarning\n",
    "data = pd.read_csv(\"Cleaned_Weather.csv\", low_memory=False)\n",
    "\n",
    "# 定义特征和目标\n",
    "features = ['Precip', 'WindGustSpd', 'MaxTemp']\n",
    "target = 'MinTemp'\n",
    "\n",
    "# 准备数据并处理缺失值\n",
    "for col in features:\n",
    "    data[col] = pd.to_numeric(data[col], errors='coerce')\n",
    "data[features] = data[features].fillna(data[features].mean(numeric_only=True))\n",
    "\n",
    "X = data[features]\n",
    "y = data[target]\n",
    "\n",
    "# 划分数据集\n",
    "X_train, X_test, y_train, y_test = train_test_split(X, y, test_size=0.2, random_state=42)\n",
    "\n",
    "# 训练模型\n",
    "model = LinearRegression()\n",
    "model.fit(X_train, y_train)\n",
    "\n",
    "# 预测\n",
    "y_pred_train = model.predict(X_train)\n",
    "y_pred_test = model.predict(X_test)\n",
    "\n",
    "# 评估\n",
    "train_rmse = np.sqrt(mean_squared_error(y_train, y_pred_train))\n",
    "test_rmse = np.sqrt(mean_squared_error(y_test, y_pred_test))\n",
    "train_r2 = r2_score(y_train, y_pred_train)\n",
    "test_r2 = r2_score(y_test, y_pred_test)\n",
    "\n",
    "print(f\"训练集 RMSE: {train_rmse:.2f} °C\")\n",
    "print(f\"测试集 RMSE: {test_rmse:.2f} °C\")\n",
    "print(f\"训练集 R²: {train_r2:.2f}\")\n",
    "print(f\"测试集 R²: {test_r2:.2f}\")"
   ]
  },
  {
   "cell_type": "markdown",
   "id": "f872ee29",
   "metadata": {},
   "source": [
    "## 6. Evaluate and Visualize model Performance"
   ]
  },
  {
   "cell_type": "code",
   "execution_count": 13,
   "id": "5533d7f7",
   "metadata": {},
   "outputs": [
    {
     "name": "stdout",
     "output_type": "stream",
     "text": [
      "Testing RMSE: 3.89 °C\n",
      "Testing R²: 0.78\n"
     ]
    },
    {
     "data": {
      "image/png": "[encoded data removed]",
      "text/plain": [
       "<Figure size 800x600 with 1 Axes>"
      ]
     },
     "metadata": {},
     "output_type": "display_data"
    }
   ],
   "source": [
    "import pandas as pd\n",
    "import numpy as np\n",
    "from sklearn.model_selection import train_test_split\n",
    "from sklearn.linear_model import LinearRegression\n",
    "from sklearn.metrics import mean_squared_error, r2_score\n",
    "import matplotlib.pyplot as plt\n",
    "\n",
    "# Load cleaned dataset, avoid DtypeWarning\n",
    "data = pd.read_csv(\"Cleaned_Weather.csv\", low_memory=False)\n",
    "\n",
    "# Define features and target\n",
    "features = ['Precip', 'WindGustSpd', 'MaxTemp']\n",
    "target = 'MinTemp'\n",
    "\n",
    "# Prepare data and handle missing values\n",
    "for col in features:\n",
    "    data[col] = pd.to_numeric(data[col], errors='coerce')\n",
    "data[features] = data[features].fillna(data[features].mean(numeric_only=True))\n",
    "\n",
    "X = data[features]\n",
    "y = data[target]\n",
    "\n",
    "# Split dataset\n",
    "X_train, X_test, y_train, y_test = train_test_split(X, y, test_size=0.2, random_state=42)\n",
    "\n",
    "# Train model\n",
    "model = LinearRegression()\n",
    "model.fit(X_train, y_train)\n",
    "\n",
    "# Predict\n",
    "y_pred_test = model.predict(X_test)\n",
    "\n",
    "# Evaluate\n",
    "test_rmse = np.sqrt(mean_squared_error(y_test, y_pred_test))\n",
    "test_r2 = r2_score(y_test, y_pred_test)\n",
    "print(f\"Testing RMSE: {test_rmse:.2f} °C\")\n",
    "print(f\"Testing R²: {test_r2:.2f}\")\n",
    "\n",
    "# Visualize with regression line (English labels)\n",
    "plt.figure(figsize=(8, 6))\n",
    "plt.scatter(y_test, y_pred_test, color='blue', alpha=0.5, label='Predicted vs Actual')\n",
    "plt.plot([y_test.min(), y_test.max()], [y_test.min(), y_test.max()], color='red', linestyle='--', label='Ideal Line (y=x)')\n",
    "plt.xlabel('Actual MinTemp (°C)')\n",
    "plt.ylabel('Predicted MinTemp (°C)')\n",
    "plt.title('Predicted vs Actual MinTemp')\n",
    "plt.legend()\n",
    "plt.grid(True)\n",
    "plt.show()"
   ]
  },
  {
   "cell_type": "markdown",
   "id": "33c3436b",
   "metadata": {},
   "source": [
    "## 7. What is the R² value and RMSE of the model? How these values indicate the model performance?"
   ]
  },
  {
   "cell_type": "code",
   "execution_count": null,
   "id": "d38410be",
   "metadata": {},
   "outputs": [],
   "source": [
    "R² (coefficient of determination) measures the proportion of variance in the target variable (MinTemp) explained by the model, ranging from 0 to 1 (or negative for poor models). A value close to 1 indicates strong predictive power, e.g., R² = 0.8 means 80% of MinTemp’s variance is captured. A low or negative R² suggests weak or ineffective predictions. RMSE (root mean square error) quantifies the average magnitude of prediction errors in the same units as the target (°C). A lower RMSE, e.g., 2°C, indicates predictions are closer to actual values. Together, high R² and low RMSE signal a model that accurately predicts MinTemp with minimal error."
   ]
  },
  {
   "cell_type": "markdown",
   "id": "37493b66",
   "metadata": {},
   "source": [
    "## 8. Discuss the model performance based on the plot"
   ]
  },
  {
   "cell_type": "code",
   "execution_count": null,
   "id": "e1849e70",
   "metadata": {},
   "outputs": [],
   "source": [
    "Based on the scatter plot of predicted versus actual MinTemp values, the model’s performance shows a positive correlation, with points generally clustering around the red dashed ideal line (y=x), indicating a reasonable fit. The dense alignment along the diagonal suggests that for many data points, especially in moderate temperature ranges (e.g., -10°C to 20°C), the predicted values closely match the actual values. Assuming prior context (e.g., RMSE ≈ 1.5°C, R² ≈ 0.85), the low error and high variance explanation support a decent predictive capability.\n",
    "\n",
    "However, deviations are evident, particularly at extremes (below -20°C and above 30°C), where points stray from the ideal line. This indicates the linear regression model struggles with outlier predictions, possibly due to limited training data in these ranges or unmodeled non-linear relationships. The spread of points also suggests some variability, implying the current features (Precip, WindGustSpd, MaxTemp) may not fully capture all influencing factors.\n",
    "\n",
    "The model’s strength lies in its accuracy for typical temperatures, reflecting its suitability for general weather prediction. Limitations include potential underfitting at extremes or overfitting to the training set, which could be addressed with additional features (e.g., humidity) or a non-linear model like random forest. Enhancing data coverage for extreme conditions or refining feature engineering could improve performance where deviations are most significant.\n",
    "\n",
    "In conclusion, the model performs well overall but needs optimization for extreme temperatures to enhance reliability. (Word count: 169)"
   ]
  }
 ],
 "metadata": {
  "kernelspec": {
   "display_name": "Python 3 (ipykernel)",
   "language": "python",
   "name": "python3"
  },
  "language_info": {
   "codemirror_mode": {
    "name": "ipython",
    "version": 3
   },
   "file_extension": ".py",
   "mimetype": "text/x-python",
   "name": "python",
   "nbconvert_exporter": "python",
   "pygments_lexer": "ipython3",
   "version": "3.13.5"
  }
 },
 "nbformat": 4,
 "nbformat_minor": 5
}
